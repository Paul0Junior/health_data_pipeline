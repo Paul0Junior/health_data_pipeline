{
 "cells": [
  {
   "cell_type": "markdown",
   "id": "d16191ee-fb20-42ce-bb17-43119a088038",
   "metadata": {},
   "source": [
    "# Estudo de API: OpenFDA"
   ]
  },
  {
   "cell_type": "markdown",
   "id": "30fd04f6-5a19-48fc-afde-8f5c3f93eed2",
   "metadata": {},
   "source": [
    "## Importando bibliotecas:"
   ]
  },
  {
   "cell_type": "code",
   "execution_count": 1,
   "id": "8dc9b336-ca73-49a0-afef-ce3252bcd79d",
   "metadata": {},
   "outputs": [],
   "source": [
    "import pandas as pd\n",
    "import httpx"
   ]
  },
  {
   "cell_type": "markdown",
   "id": "b29890da-d0f9-4382-be4f-32eb0c513ef9",
   "metadata": {},
   "source": [
    "## Iniciando análise:"
   ]
  },
  {
   "cell_type": "code",
   "execution_count": 126,
   "id": "e78b8e6e-eaa2-4233-b480-d0069840f8a6",
   "metadata": {},
   "outputs": [],
   "source": [
    "# Configurando variáveis:\n",
    "url = 'https://api.fda.gov/drug/event.json?'\n",
    "data_ini = '20241201'\n",
    "data_fim = '20241231'\n",
    "medicamento = 'IBUPROFEN'\n",
    "max_pages =3\n",
    "\n",
    "url = 'https://api.fda.gov/drug/event.json'\n",
    "params = {\n",
    "    \"search\": f'patient.drug.medicinalproduct:\"ASPIRIN\" AND receivedate:{data_ini} TO {data_fim}',\n",
    "    \"limit\": 2\n",
    "}\n",
    "\n",
    "response = httpx.get(url, params=params)"
   ]
  },
  {
   "cell_type": "code",
   "execution_count": 125,
   "id": "33a542fd-7952-4ffd-870e-45c168ff3e8b",
   "metadata": {},
   "outputs": [
    {
     "name": "stdout",
     "output_type": "stream",
     "text": [
      "200\n"
     ]
    }
   ],
   "source": [
    "print(response.status_code)\n",
    "response_json=response.json()"
   ]
  },
  {
   "cell_type": "code",
   "execution_count": 47,
   "id": "d17ef201-dfe9-47cc-beeb-c51096c85963",
   "metadata": {},
   "outputs": [
    {
     "name": "stdout",
     "output_type": "stream",
     "text": [
      "ID: 10003304\n",
      "Data: 20140312\n",
      "É sério? 2\n",
      "ID: 10003310\n",
      "Data: 20140312\n",
      "É sério? 2\n"
     ]
    }
   ],
   "source": [
    "results = response_json[\"results\"]\n",
    "\n",
    "for event in results:\n",
    "    print(\"ID:\", event.get(\"safetyreportid\"))\n",
    "    print(\"Data:\", event.get(\"receivedate\"))\n",
    "    print(\"É sério?\", event.get(\"serious\"))\n",
    "\n",
    "drugs = event.get(\"patient\",{}).get(\"drug\", [])\n",
    "reactions = event.get(\"patient\", {}).get(\"reaction\",[])"
   ]
  },
  {
   "cell_type": "markdown",
   "id": "0bcb78cb-0cc5-47f7-8487-ed293784ed3e",
   "metadata": {},
   "source": [
    "### Buscando dados para montar o dataframe"
   ]
  },
  {
   "cell_type": "markdown",
   "id": "57460c54-b088-437f-8b9f-bea1f24f6ca8",
   "metadata": {},
   "source": [
    "A ideia aqui é montarmos um dataframe para analisar dados do medicamento IBUPROFENO, <br> \n",
    "referente ao período 01-12-24 ~ 31-12-24 e com a seguinte composição: <br>\n",
    "```bash\n",
    "report_id, medicacao, marca, indicacao, reacao, sexo, idade, serio, morreu\n",
    "```"
   ]
  },
  {
   "cell_type": "code",
   "execution_count": 119,
   "id": "ebd09545-bf52-4d47-8edb-429f5f8cbbd4",
   "metadata": {},
   "outputs": [],
   "source": [
    "# Configurando variáveis:\n",
    "url = 'https://api.fda.gov/drug/event.json?'\n",
    "data_ini = '20241201'\n",
    "data_fim = '20241231'\n",
    "medicamento = 'IBUPROFEN'"
   ]
  },
  {
   "cell_type": "code",
   "execution_count": 127,
   "id": "bbe27ad9-bbc2-423d-b0c3-adf966c68558",
   "metadata": {},
   "outputs": [],
   "source": [
    "# Função para buscar dados com paginação:\n",
    "def fetch_dados_paginamento(medicamento, start_date, end_date, max_pages=3):\n",
    "    url = 'https://api.fda.gov/drug/event.json?'\n",
    "    resultados = []\n",
    "\n",
    "    for page in range(max_pages):\n",
    "        skip = page * 100\n",
    "        params = {\n",
    "            \"search\": f'patient.drug.medicinalproduct:\"{medicamento}\" AND receivedate:{start_date} TO {end_date}',\n",
    "            \"limit\": 100,\n",
    "            \"skip\": skip\n",
    "        }\n",
    "\n",
    "        response = httpx.get(url, params=params)\n",
    "        # Teste de conexão:\n",
    "        if response.status_code != 200:\n",
    "            print('Erro na página', page, response.json())\n",
    "            break\n",
    "        # Se não der erro:\n",
    "        dados = response.json()\n",
    "        if \"results\" not in dados:\n",
    "            break\n",
    "        resultados.extend(dados[\"results\"])\n",
    "    return resultados\n",
    "    "
   ]
  },
  {
   "cell_type": "code",
   "execution_count": 128,
   "id": "e7781671-04f8-42c8-ad93-75ad78d57516",
   "metadata": {},
   "outputs": [
    {
     "name": "stdout",
     "output_type": "stream",
     "text": [
      "Erro na página 1 {'error': {'code': 'NOT_FOUND', 'message': 'No matches found!'}}\n",
      "Total de dados coletados:8\n"
     ]
    }
   ],
   "source": [
    "dados = fetch_dados_paginamento(medicamento, data_ini, data_fim, max_pages=3)\n",
    "print(f'Total de dados coletados:{len(dados)}')"
   ]
  },
  {
   "cell_type": "code",
   "execution_count": null,
   "id": "3557d69e-6a15-4409-948e-ddcc4d501393",
   "metadata": {},
   "outputs": [],
   "source": []
  }
 ],
 "metadata": {
  "kernelspec": {
   "display_name": "Python 3 (ipykernel)",
   "language": "python",
   "name": "python3"
  },
  "language_info": {
   "codemirror_mode": {
    "name": "ipython",
    "version": 3
   },
   "file_extension": ".py",
   "mimetype": "text/x-python",
   "name": "python",
   "nbconvert_exporter": "python",
   "pygments_lexer": "ipython3",
   "version": "3.11.6"
  }
 },
 "nbformat": 4,
 "nbformat_minor": 5
}
